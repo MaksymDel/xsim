{
 "cells": [
  {
   "cell_type": "code",
   "execution_count": 32,
   "id": "e43d03ff-4434-4172-8ee8-540bde4d3cc1",
   "metadata": {},
   "outputs": [],
   "source": [
    "library(ggplot2)\n",
    "library(glue)"
   ]
  },
  {
   "cell_type": "code",
   "execution_count": 3,
   "id": "c3fa1c77-b282-4e83-89bf-1c894e27d382",
   "metadata": {},
   "outputs": [
    {
     "name": "stdout",
     "output_type": "stream",
     "text": [
      "[1] \"/home/maksym/normal-transformers/examples\"\n"
     ]
    }
   ],
   "source": [
    "print(getwd())"
   ]
  },
  {
   "cell_type": "code",
   "execution_count": 4,
   "id": "54bf623a-b80e-43f8-bb5c-6aaaa7f70f34",
   "metadata": {},
   "outputs": [],
   "source": [
    "setwd(\"../experiments/assets/multilingual//bert-base-multilingual-uncased//sim_scores\")"
   ]
  },
  {
   "cell_type": "code",
   "execution_count": 25,
   "id": "b4c2fbd6-ee26-426b-b981-f1c543aa8c81",
   "metadata": {},
   "outputs": [],
   "source": [
    "colors <- factor(c(\"A1CF\", \"A2M\", \"A2M\", \"AADAC\", \"AADACL3\"))\n"
   ]
  },
  {
   "cell_type": "code",
   "execution_count": 23,
   "id": "e8d5713a-0e15-4d21-ace2-9734b7b33e0b",
   "metadata": {},
   "outputs": [],
   "source": [
    "lang_pairs <- factor(c(\"en-en_shuf\", \"en-ar\", \"en-az\", \"en-bg\", \"en-cs\", \"en-da\"))\n",
    "model_name_or_dir <- \"bert-base-multilingual-uncased\"\n",
    "sent_rep_type <- \"mean\"\n",
    "data_type <- \"xnli6\"\n",
    "sim_names <- factor(c(\"pwcca\", \"cca\", \"svcca\", \"cka\"))"
   ]
  },
  {
   "cell_type": "code",
   "execution_count": null,
   "id": "a3956ed2-1e5a-4c48-9ca7-5427026eed6b",
   "metadata": {},
   "outputs": [],
   "source": []
  },
  {
   "cell_type": "code",
   "execution_count": 21,
   "id": "c1406145-c971-46da-bb03-62d1a1d12648",
   "metadata": {},
   "outputs": [
    {
     "name": "stdout",
     "output_type": "stream",
     "text": [
      " [1] X0                   X0.49081763932953854 X0.1216205990438965 \n",
      " [4] X0.0985483731142636  X0.361933753893869   X0.3306729990169705 \n",
      " [7] X0.3600718569346311  X0.2959078666794594  X0.12189173783862495\n",
      "[10] X0.10157373440220005 X0.21831991708877396 X0.14157333536501865\n",
      "[13] X0.28421957051525465\n",
      "<0 rows> (or 0-length row.names)\n"
     ]
    }
   ],
   "source": [
    "data <- read.csv(\"xnli6_pwcca_cls_en-ar.csv\", sep = \",\")\n",
    "print(data)"
   ]
  },
  {
   "cell_type": "code",
   "execution_count": 39,
   "id": "1c1106b4-a1bc-4e66-addf-7657efd7d4d7",
   "metadata": {},
   "outputs": [],
   "source": [
    "df <- data.frame()"
   ]
  },
  {
   "cell_type": "code",
   "execution_count": 43,
   "id": "23c32ae0-2fbd-4df8-9081-3ab2259988ee",
   "metadata": {},
   "outputs": [
    {
     "ename": "ERROR",
     "evalue": "Error in `[<-.data.frame`(`*tmp*`, \"2\", value = c(1, 2, 3)): replacement has 3 rows, data has 0\n",
     "output_type": "error",
     "traceback": [
      "Error in `[<-.data.frame`(`*tmp*`, \"2\", value = c(1, 2, 3)): replacement has 3 rows, data has 0\nTraceback:\n",
      "1. `[<-`(`*tmp*`, \"2\", value = c(1, 2, 3))",
      "2. `[<-.data.frame`(`*tmp*`, \"2\", value = c(1, 2, 3))",
      "3. stop(sprintf(ngettext(N, \"replacement has %d row, data has %d\", \n .     \"replacement has %d rows, data has %d\"), N, n), domain = NA)"
     ]
    }
   ],
   "source": [
    "df[\"2\"] <- c(1,2,3)"
   ]
  },
  {
   "cell_type": "code",
   "execution_count": 38,
   "id": "d4103a2d-1c4d-465a-a440-d3aacc7f742a",
   "metadata": {},
   "outputs": [
    {
     "name": "stdout",
     "output_type": "stream",
     "text": [
      "2\n",
      "2\n",
      "2\n",
      "2\n",
      "2\n",
      "2\n"
     ]
    }
   ],
   "source": [
    "df <- Data\n",
    "for(i in lang_pairs) {\n",
    "    scores <- read.csv(\"xnli6_pwcca_cls_en-ar.csv\", sep = \",\")\n",
    "    print(glue(\"{a}\"))\n",
    "}"
   ]
  },
  {
   "cell_type": "code",
   "execution_count": null,
   "id": "26eae399-1049-403c-81fa-f875890084e4",
   "metadata": {},
   "outputs": [],
   "source": []
  }
 ],
 "metadata": {
  "kernelspec": {
   "display_name": "R",
   "language": "R",
   "name": "ir"
  },
  "language_info": {
   "codemirror_mode": "r",
   "file_extension": ".r",
   "mimetype": "text/x-r-source",
   "name": "R",
   "pygments_lexer": "r",
   "version": "4.0.5"
  }
 },
 "nbformat": 4,
 "nbformat_minor": 5
}
