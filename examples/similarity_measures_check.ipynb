{
 "cells": [
  {
   "cell_type": "code",
   "execution_count": 1,
   "id": "7e52e3f7-9f7c-42c5-b716-b75909c69e00",
   "metadata": {},
   "outputs": [],
   "source": [
    "import os\n",
    "os.chdir('..')  # navigate to the root\n"
   ]
  },
  {
   "cell_type": "code",
   "execution_count": 2,
   "id": "200255b7-bb11-4384-b50d-f01563f1e07d",
   "metadata": {},
   "outputs": [],
   "source": [
    "from normal_transformers.util.util_common import pickle_load_from_file"
   ]
  },
  {
   "cell_type": "code",
   "execution_count": 3,
   "id": "e124d066-98ab-4f40-bac8-806e616ac1e0",
   "metadata": {},
   "outputs": [
    {
     "name": "stdout",
     "output_type": "stream",
     "text": [
      "Loading from experiments/assets/multilingual/bert-base-multilingual-uncased/xnli_encoded/multinli.train_sentemb_cls.en.pkl\n",
      "Loaded\n",
      "Loading from experiments/assets/multilingual/bert-base-multilingual-uncased/xnli_encoded/multinli.train_sentemb_cls.en_shuf.pkl\n",
      "Loaded\n",
      "Loading from experiments/assets/multilingual/bert-base-multilingual-uncased/xnli_encoded/multinli.train_sentemb_cls.da.pkl\n",
      "Loaded\n"
     ]
    }
   ],
   "source": [
    "en = pickle_load_from_file(\"experiments/assets/multilingual/bert-base-multilingual-uncased/xnli_encoded/multinli.train_sentemb_cls.en.pkl\")\n",
    "en_shuf = pickle_load_from_file(\"experiments/assets/multilingual/bert-base-multilingual-uncased/xnli_encoded/multinli.train_sentemb_cls.en_shuf.pkl\")\n",
    "da = pickle_load_from_file(\"experiments/assets/multilingual/bert-base-multilingual-uncased/xnli_encoded/multinli.train_sentemb_cls.da.pkl\")\n"
   ]
  },
  {
   "cell_type": "code",
   "execution_count": null,
   "id": "e26ffad4-e644-48e3-b5b7-ac5873627e11",
   "metadata": {},
   "outputs": [],
   "source": [
    "from "
   ]
  }
 ],
 "metadata": {
  "kernelspec": {
   "display_name": "norm",
   "language": "python",
   "name": "norm"
  },
  "language_info": {
   "codemirror_mode": {
    "name": "ipython",
    "version": 3
   },
   "file_extension": ".py",
   "mimetype": "text/x-python",
   "name": "python",
   "nbconvert_exporter": "python",
   "pygments_lexer": "ipython3",
   "version": "3.8.8"
  }
 },
 "nbformat": 4,
 "nbformat_minor": 5
}
